{
 "cells": [
  {
   "cell_type": "code",
   "execution_count": 1,
   "metadata": {},
   "outputs": [],
   "source": [
    "import numpy as np\n",
    "import pandas as pd\n",
    "import matplotlib.pyplot as plt\n",
    "import seaborn as sns\n",
    "%matplotlib inline"
   ]
  },
  {
   "cell_type": "code",
   "execution_count": 2,
   "metadata": {},
   "outputs": [],
   "source": [
    "with open('data/Vehicle Insurance Case Fraud (1).csv') as f:\n",
    "    x = pd.read_csv(f)"
   ]
  },
  {
   "cell_type": "code",
   "execution_count": 3,
   "metadata": {},
   "outputs": [
    {
     "data": {
      "text/html": [
       "<div>\n",
       "<style scoped>\n",
       "    .dataframe tbody tr th:only-of-type {\n",
       "        vertical-align: middle;\n",
       "    }\n",
       "\n",
       "    .dataframe tbody tr th {\n",
       "        vertical-align: top;\n",
       "    }\n",
       "\n",
       "    .dataframe thead th {\n",
       "        text-align: right;\n",
       "    }\n",
       "</style>\n",
       "<table border=\"1\" class=\"dataframe\">\n",
       "  <thead>\n",
       "    <tr style=\"text-align: right;\">\n",
       "      <th></th>\n",
       "      <th>ï»¿Month</th>\n",
       "      <th>WeekOfMonth</th>\n",
       "      <th>DayOfWeek</th>\n",
       "      <th>Make</th>\n",
       "      <th>AccidentArea</th>\n",
       "      <th>DayOfWeekClaimed</th>\n",
       "      <th>MonthClaimed</th>\n",
       "      <th>WeekOfMonthClaimed</th>\n",
       "      <th>Sex</th>\n",
       "      <th>MaritalStatus</th>\n",
       "      <th>...</th>\n",
       "      <th>AgeOfVehicle</th>\n",
       "      <th>AgeOfPolicyHolder</th>\n",
       "      <th>PoliceReportFiled</th>\n",
       "      <th>WitnessPresent</th>\n",
       "      <th>AgentType</th>\n",
       "      <th>NumberOfSuppliments</th>\n",
       "      <th>AddressChange_Claim</th>\n",
       "      <th>NumberOfCars</th>\n",
       "      <th>Year</th>\n",
       "      <th>BasePolicy</th>\n",
       "    </tr>\n",
       "  </thead>\n",
       "  <tbody>\n",
       "    <tr>\n",
       "      <th>0</th>\n",
       "      <td>Dec</td>\n",
       "      <td>5</td>\n",
       "      <td>Wednesday</td>\n",
       "      <td>Honda</td>\n",
       "      <td>Urban</td>\n",
       "      <td>Tuesday</td>\n",
       "      <td>Jan</td>\n",
       "      <td>1</td>\n",
       "      <td>Female</td>\n",
       "      <td>Single</td>\n",
       "      <td>...</td>\n",
       "      <td>3 years</td>\n",
       "      <td>26 to 30</td>\n",
       "      <td>No</td>\n",
       "      <td>No</td>\n",
       "      <td>External</td>\n",
       "      <td>none</td>\n",
       "      <td>1 year</td>\n",
       "      <td>3 to 4</td>\n",
       "      <td>1994</td>\n",
       "      <td>Liability</td>\n",
       "    </tr>\n",
       "    <tr>\n",
       "      <th>1</th>\n",
       "      <td>Jan</td>\n",
       "      <td>3</td>\n",
       "      <td>Wednesday</td>\n",
       "      <td>Honda</td>\n",
       "      <td>Urban</td>\n",
       "      <td>Monday</td>\n",
       "      <td>Jan</td>\n",
       "      <td>4</td>\n",
       "      <td>Male</td>\n",
       "      <td>Single</td>\n",
       "      <td>...</td>\n",
       "      <td>6 years</td>\n",
       "      <td>31 to 35</td>\n",
       "      <td>Yes</td>\n",
       "      <td>No</td>\n",
       "      <td>External</td>\n",
       "      <td>none</td>\n",
       "      <td>no change</td>\n",
       "      <td>1 vehicle</td>\n",
       "      <td>1994</td>\n",
       "      <td>Collision</td>\n",
       "    </tr>\n",
       "    <tr>\n",
       "      <th>2</th>\n",
       "      <td>Oct</td>\n",
       "      <td>5</td>\n",
       "      <td>Friday</td>\n",
       "      <td>Honda</td>\n",
       "      <td>Urban</td>\n",
       "      <td>Thursday</td>\n",
       "      <td>Nov</td>\n",
       "      <td>2</td>\n",
       "      <td>Male</td>\n",
       "      <td>Married</td>\n",
       "      <td>...</td>\n",
       "      <td>7 years</td>\n",
       "      <td>41 to 50</td>\n",
       "      <td>No</td>\n",
       "      <td>No</td>\n",
       "      <td>External</td>\n",
       "      <td>none</td>\n",
       "      <td>no change</td>\n",
       "      <td>1 vehicle</td>\n",
       "      <td>1994</td>\n",
       "      <td>Collision</td>\n",
       "    </tr>\n",
       "    <tr>\n",
       "      <th>3</th>\n",
       "      <td>Jun</td>\n",
       "      <td>2</td>\n",
       "      <td>Saturday</td>\n",
       "      <td>Toyota</td>\n",
       "      <td>Rural</td>\n",
       "      <td>Friday</td>\n",
       "      <td>Jul</td>\n",
       "      <td>1</td>\n",
       "      <td>Male</td>\n",
       "      <td>Married</td>\n",
       "      <td>...</td>\n",
       "      <td>more than 7</td>\n",
       "      <td>51 to 65</td>\n",
       "      <td>Yes</td>\n",
       "      <td>No</td>\n",
       "      <td>External</td>\n",
       "      <td>more than 5</td>\n",
       "      <td>no change</td>\n",
       "      <td>1 vehicle</td>\n",
       "      <td>1994</td>\n",
       "      <td>Liability</td>\n",
       "    </tr>\n",
       "    <tr>\n",
       "      <th>4</th>\n",
       "      <td>Jan</td>\n",
       "      <td>5</td>\n",
       "      <td>Monday</td>\n",
       "      <td>Honda</td>\n",
       "      <td>Urban</td>\n",
       "      <td>Tuesday</td>\n",
       "      <td>Feb</td>\n",
       "      <td>2</td>\n",
       "      <td>Female</td>\n",
       "      <td>Single</td>\n",
       "      <td>...</td>\n",
       "      <td>5 years</td>\n",
       "      <td>31 to 35</td>\n",
       "      <td>No</td>\n",
       "      <td>No</td>\n",
       "      <td>External</td>\n",
       "      <td>none</td>\n",
       "      <td>no change</td>\n",
       "      <td>1 vehicle</td>\n",
       "      <td>1994</td>\n",
       "      <td>Collision</td>\n",
       "    </tr>\n",
       "  </tbody>\n",
       "</table>\n",
       "<p>5 rows × 33 columns</p>\n",
       "</div>"
      ],
      "text/plain": [
       "  ï»¿Month  WeekOfMonth  DayOfWeek    Make AccidentArea DayOfWeekClaimed  \\\n",
       "0      Dec            5  Wednesday   Honda        Urban          Tuesday   \n",
       "1      Jan            3  Wednesday   Honda        Urban           Monday   \n",
       "2      Oct            5     Friday   Honda        Urban         Thursday   \n",
       "3      Jun            2   Saturday  Toyota        Rural           Friday   \n",
       "4      Jan            5     Monday   Honda        Urban          Tuesday   \n",
       "\n",
       "  MonthClaimed  WeekOfMonthClaimed     Sex MaritalStatus  ...  AgeOfVehicle  \\\n",
       "0          Jan                   1  Female        Single  ...       3 years   \n",
       "1          Jan                   4    Male        Single  ...       6 years   \n",
       "2          Nov                   2    Male       Married  ...       7 years   \n",
       "3          Jul                   1    Male       Married  ...   more than 7   \n",
       "4          Feb                   2  Female        Single  ...       5 years   \n",
       "\n",
       "  AgeOfPolicyHolder PoliceReportFiled WitnessPresent AgentType  \\\n",
       "0          26 to 30                No             No  External   \n",
       "1          31 to 35               Yes             No  External   \n",
       "2          41 to 50                No             No  External   \n",
       "3          51 to 65               Yes             No  External   \n",
       "4          31 to 35                No             No  External   \n",
       "\n",
       "   NumberOfSuppliments  AddressChange_Claim  NumberOfCars  Year  BasePolicy  \n",
       "0                 none               1 year        3 to 4  1994   Liability  \n",
       "1                 none            no change     1 vehicle  1994   Collision  \n",
       "2                 none            no change     1 vehicle  1994   Collision  \n",
       "3          more than 5            no change     1 vehicle  1994   Liability  \n",
       "4                 none            no change     1 vehicle  1994   Collision  \n",
       "\n",
       "[5 rows x 33 columns]"
      ]
     },
     "execution_count": 3,
     "metadata": {},
     "output_type": "execute_result"
    }
   ],
   "source": [
    "x.head()"
   ]
  },
  {
   "cell_type": "code",
   "execution_count": 4,
   "metadata": {},
   "outputs": [
    {
     "data": {
      "text/plain": [
       "(15420, 33)"
      ]
     },
     "execution_count": 4,
     "metadata": {},
     "output_type": "execute_result"
    }
   ],
   "source": [
    "x.shape"
   ]
  },
  {
   "cell_type": "code",
   "execution_count": 5,
   "metadata": {},
   "outputs": [
    {
     "name": "stdout",
     "output_type": "stream",
     "text": [
      "<class 'pandas.core.frame.DataFrame'>\n",
      "RangeIndex: 15420 entries, 0 to 15419\n",
      "Data columns (total 33 columns):\n",
      " #   Column                Non-Null Count  Dtype \n",
      "---  ------                --------------  ----- \n",
      " 0   ï»¿Month              15420 non-null  object\n",
      " 1   WeekOfMonth           15420 non-null  int64 \n",
      " 2   DayOfWeek             15420 non-null  object\n",
      " 3   Make                  15420 non-null  object\n",
      " 4   AccidentArea          15420 non-null  object\n",
      " 5   DayOfWeekClaimed      15420 non-null  object\n",
      " 6   MonthClaimed          15420 non-null  object\n",
      " 7   WeekOfMonthClaimed    15420 non-null  int64 \n",
      " 8   Sex                   15420 non-null  object\n",
      " 9   MaritalStatus         15420 non-null  object\n",
      " 10  Age                   15420 non-null  int64 \n",
      " 11  Fault                 15420 non-null  object\n",
      " 12  PolicyType            15420 non-null  object\n",
      " 13  VehicleCategory       15420 non-null  object\n",
      " 14  VehiclePrice          15420 non-null  object\n",
      " 15  FraudFound_P          15420 non-null  int64 \n",
      " 16  PolicyNumber          15420 non-null  int64 \n",
      " 17  RepNumber             15420 non-null  int64 \n",
      " 18  Deductible            15420 non-null  int64 \n",
      " 19  DriverRating          15420 non-null  int64 \n",
      " 20  Days_Policy_Accident  15420 non-null  object\n",
      " 21  Days_Policy_Claim     15420 non-null  object\n",
      " 22  PastNumberOfClaims    15420 non-null  object\n",
      " 23  AgeOfVehicle          15420 non-null  object\n",
      " 24  AgeOfPolicyHolder     15420 non-null  object\n",
      " 25  PoliceReportFiled     15420 non-null  object\n",
      " 26  WitnessPresent        15420 non-null  object\n",
      " 27  AgentType             15420 non-null  object\n",
      " 28  NumberOfSuppliments   15420 non-null  object\n",
      " 29  AddressChange_Claim   15420 non-null  object\n",
      " 30  NumberOfCars          15420 non-null  object\n",
      " 31  Year                  15420 non-null  int64 \n",
      " 32  BasePolicy            15420 non-null  object\n",
      "dtypes: int64(9), object(24)\n",
      "memory usage: 3.9+ MB\n"
     ]
    }
   ],
   "source": [
    "x.info()"
   ]
  },
  {
   "cell_type": "code",
   "execution_count": 6,
   "metadata": {},
   "outputs": [
    {
     "data": {
      "text/plain": [
       "ï»¿Month                0\n",
       "WeekOfMonth             0\n",
       "DayOfWeek               0\n",
       "Make                    0\n",
       "AccidentArea            0\n",
       "DayOfWeekClaimed        0\n",
       "MonthClaimed            0\n",
       "WeekOfMonthClaimed      0\n",
       "Sex                     0\n",
       "MaritalStatus           0\n",
       "Age                     0\n",
       "Fault                   0\n",
       "PolicyType              0\n",
       "VehicleCategory         0\n",
       "VehiclePrice            0\n",
       "FraudFound_P            0\n",
       "PolicyNumber            0\n",
       "RepNumber               0\n",
       "Deductible              0\n",
       "DriverRating            0\n",
       "Days_Policy_Accident    0\n",
       "Days_Policy_Claim       0\n",
       "PastNumberOfClaims      0\n",
       "AgeOfVehicle            0\n",
       "AgeOfPolicyHolder       0\n",
       "PoliceReportFiled       0\n",
       "WitnessPresent          0\n",
       "AgentType               0\n",
       "NumberOfSuppliments     0\n",
       "AddressChange_Claim     0\n",
       "NumberOfCars            0\n",
       "Year                    0\n",
       "BasePolicy              0\n",
       "dtype: int64"
      ]
     },
     "execution_count": 6,
     "metadata": {},
     "output_type": "execute_result"
    }
   ],
   "source": [
    "x.isnull().sum()"
   ]
  },
  {
   "cell_type": "code",
   "execution_count": 7,
   "metadata": {},
   "outputs": [
    {
     "data": {
      "text/plain": [
       "<matplotlib.axes._subplots.AxesSubplot at 0x1b03a1dbe50>"
      ]
     },
     "execution_count": 7,
     "metadata": {},
     "output_type": "execute_result"
    },
    {
     "data": {
      "image/png": "[encoded data removed]",
      "text/plain": [
       "<Figure size 432x288 with 1 Axes>"
      ]
     },
     "metadata": {
      "needs_background": "light"
     },
     "output_type": "display_data"
    }
   ],
   "source": [
    "sns.heatmap(x.isnull(), yticklabels = False, cbar = False, cmap = 'viridis')"
   ]
  },
  {
   "cell_type": "code",
   "execution_count": 8,
   "metadata": {},
   "outputs": [
    {
     "data": {
      "text/plain": [
       "array(['Policy Holder', 'Third Party'], dtype=object)"
      ]
     },
     "execution_count": 8,
     "metadata": {},
     "output_type": "execute_result"
    }
   ],
   "source": [
    "x.Fault.unique()"
   ]
  },
  {
   "cell_type": "code",
   "execution_count": 9,
   "metadata": {},
   "outputs": [
    {
     "data": {
      "text/plain": [
       "array(['Sport - Liability', 'Sport - Collision', 'Sedan - Liability',\n",
       "       'Utility - All Perils', 'Sedan - All Perils', 'Sedan - Collision',\n",
       "       'Utility - Collision', 'Utility - Liability', 'Sport - All Perils'],\n",
       "      dtype=object)"
      ]
     },
     "execution_count": 9,
     "metadata": {},
     "output_type": "execute_result"
    }
   ],
   "source": [
    "x.PolicyType.unique()"
   ]
  },
  {
   "cell_type": "markdown",
   "metadata": {},
   "source": [
    "## Explanatory Data Analysis"
   ]
  },
  {
   "cell_type": "code",
   "execution_count": 10,
   "metadata": {},
   "outputs": [
    {
     "data": {
      "image/png": "[encoded data removed]",
      "text/plain": [
       "<Figure size 432x288 with 1 Axes>"
      ]
     },
     "metadata": {
      "needs_background": "light"
     },
     "output_type": "display_data"
    }
   ],
   "source": [
    "sns.countplot(x = 'BasePolicy', hue = 'Fault', data = x)\n",
    "sns.set_style('darkgrid')"
   ]
  },
  {
   "cell_type": "code",
   "execution_count": 11,
   "metadata": {},
   "outputs": [
    {
     "data": {
      "text/plain": [
       "<matplotlib.axes._subplots.AxesSubplot at 0x1b03a3ae460>"
      ]
     },
     "execution_count": 11,
     "metadata": {},
     "output_type": "execute_result"
    },
    {
     "data": {
      "image/png": "[encoded data removed]",
      "text/plain": [
       "<Figure size 432x288 with 1 Axes>"
      ]
     },
     "metadata": {},
     "output_type": "display_data"
    }
   ],
   "source": [
    "sns.countplot(x = 'Fault', data = x)"
   ]
  },
  {
   "cell_type": "code",
   "execution_count": 12,
   "metadata": {},
   "outputs": [
    {
     "data": {
      "text/plain": [
       "<matplotlib.axes._subplots.AxesSubplot at 0x1b03a3f2ac0>"
      ]
     },
     "execution_count": 12,
     "metadata": {},
     "output_type": "execute_result"
    },
    {
     "data": {
      "image/png": "[encoded data removed]",
      "text/plain": [
       "<Figure size 432x288 with 1 Axes>"
      ]
     },
     "metadata": {},
     "output_type": "display_data"
    }
   ],
   "source": [
    "sns.countplot(x = 'FraudFound_P', hue = 'Fault', data = x)"
   ]
  },
  {
   "cell_type": "code",
   "execution_count": 13,
   "metadata": {},
   "outputs": [
    {
     "data": {
      "text/plain": [
       "<matplotlib.axes._subplots.AxesSubplot at 0x1b03a451d60>"
      ]
     },
     "execution_count": 13,
     "metadata": {},
     "output_type": "execute_result"
    },
    {
     "data": {
      "image/png": "[encoded data removed]",
      "text/plain": [
       "<Figure size 1440x576 with 1 Axes>"
      ]
     },
     "metadata": {},
     "output_type": "display_data"
    }
   ],
   "source": [
    "plt.figure(figsize = (20, 8))\n",
    "sns.barplot(x = 'MonthClaimed', y = 'FraudFound_P', data = x)"
   ]
  },
  {
   "cell_type": "code",
   "execution_count": 14,
   "metadata": {},
   "outputs": [
    {
     "data": {
      "text/plain": [
       "<matplotlib.axes._subplots.AxesSubplot at 0x1b03a44cd90>"
      ]
     },
     "execution_count": 14,
     "metadata": {},
     "output_type": "execute_result"
    },
    {
     "data": {
      "image/png": "[encoded data removed]",
      "text/plain": [
       "<Figure size 1440x576 with 1 Axes>"
      ]
     },
     "metadata": {},
     "output_type": "display_data"
    }
   ],
   "source": [
    "plt.figure(figsize = (20, 8))\n",
    "sns.barplot(x = 'DayOfWeekClaimed', y = 'FraudFound_P', data = x)"
   ]
  },
  {
   "cell_type": "code",
   "execution_count": 15,
   "metadata": {},
   "outputs": [
    {
     "data": {
      "text/plain": [
       "<matplotlib.axes._subplots.AxesSubplot at 0x1b03a56c7c0>"
      ]
     },
     "execution_count": 15,
     "metadata": {},
     "output_type": "execute_result"
    },
    {
     "data": {
      "image/png": "[encoded data removed]",
      "text/plain": [
       "<Figure size 864x288 with 1 Axes>"
      ]
     },
     "metadata": {},
     "output_type": "display_data"
    }
   ],
   "source": [
    "plt.figure(figsize = (12, 4))\n",
    "sns.countplot(x = 'AgeOfPolicyHolder', hue = 'Sex', data = x)"
   ]
  },
  {
   "cell_type": "code",
   "execution_count": 16,
   "metadata": {},
   "outputs": [
    {
     "data": {
      "text/plain": [
       "<matplotlib.axes._subplots.AxesSubplot at 0x1b03a44ce50>"
      ]
     },
     "execution_count": 16,
     "metadata": {},
     "output_type": "execute_result"
    },
    {
     "data": {
      "image/png": "[encoded data removed]",
      "text/plain": [
       "<Figure size 864x288 with 1 Axes>"
      ]
     },
     "metadata": {},
     "output_type": "display_data"
    }
   ],
   "source": [
    "plt.figure(figsize = (12, 4))\n",
    "sns.countplot(x = 'MaritalStatus', data = x)"
   ]
  },
  {
   "cell_type": "code",
   "execution_count": 17,
   "metadata": {},
   "outputs": [
    {
     "data": {
      "text/plain": [
       "<matplotlib.axes._subplots.AxesSubplot at 0x1b03a56c9d0>"
      ]
     },
     "execution_count": 17,
     "metadata": {},
     "output_type": "execute_result"
    },
    {
     "data": {
      "image/png": "[encoded data removed]",
      "text/plain": [
       "<Figure size 432x288 with 1 Axes>"
      ]
     },
     "metadata": {},
     "output_type": "display_data"
    }
   ],
   "source": [
    "sns.countplot(x = 'AgentType', data = x)"
   ]
  },
  {
   "cell_type": "code",
   "execution_count": 18,
   "metadata": {},
   "outputs": [
    {
     "data": {
      "text/plain": [
       "<matplotlib.axes._subplots.AxesSubplot at 0x1b03ca53790>"
      ]
     },
     "execution_count": 18,
     "metadata": {},
     "output_type": "execute_result"
    },
    {
     "data": {
      "image/png": "[encoded data removed]",
      "text/plain": [
       "<Figure size 1440x432 with 1 Axes>"
      ]
     },
     "metadata": {},
     "output_type": "display_data"
    }
   ],
   "source": [
    "plt.figure(figsize = (20, 6))\n",
    "sns.countplot(x = 'PolicyType', data = x)"
   ]
  },
  {
   "cell_type": "code",
   "execution_count": 19,
   "metadata": {},
   "outputs": [
    {
     "data": {
      "text/plain": [
       "<matplotlib.axes._subplots.AxesSubplot at 0x1b03a3895b0>"
      ]
     },
     "execution_count": 19,
     "metadata": {},
     "output_type": "execute_result"
    },
    {
     "data": {
      "image/png": "[encoded data removed]",
      "text/plain": [
       "<Figure size 432x288 with 1 Axes>"
      ]
     },
     "metadata": {},
     "output_type": "display_data"
    }
   ],
   "source": [
    "sns.countplot(x = 'AccidentArea', hue = 'Fault', data = x)"
   ]
  },
  {
   "cell_type": "markdown",
   "metadata": {},
   "source": [
    "### Feature Engineering"
   ]
  },
  {
   "cell_type": "code",
   "execution_count": 20,
   "metadata": {},
   "outputs": [],
   "source": [
    "dx = x.drop(['ï»¿Month', 'DayOfWeek', 'Make', 'Year'], axis = 1)"
   ]
  },
  {
   "cell_type": "code",
   "execution_count": 21,
   "metadata": {},
   "outputs": [
    {
     "data": {
      "text/html": [
       "<div>\n",
       "<style scoped>\n",
       "    .dataframe tbody tr th:only-of-type {\n",
       "        vertical-align: middle;\n",
       "    }\n",
       "\n",
       "    .dataframe tbody tr th {\n",
       "        vertical-align: top;\n",
       "    }\n",
       "\n",
       "    .dataframe thead th {\n",
       "        text-align: right;\n",
       "    }\n",
       "</style>\n",
       "<table border=\"1\" class=\"dataframe\">\n",
       "  <thead>\n",
       "    <tr style=\"text-align: right;\">\n",
       "      <th></th>\n",
       "      <th>WeekOfMonth</th>\n",
       "      <th>AccidentArea</th>\n",
       "      <th>DayOfWeekClaimed</th>\n",
       "      <th>MonthClaimed</th>\n",
       "      <th>WeekOfMonthClaimed</th>\n",
       "      <th>Sex</th>\n",
       "      <th>MaritalStatus</th>\n",
       "      <th>Age</th>\n",
       "      <th>Fault</th>\n",
       "      <th>PolicyType</th>\n",
       "      <th>...</th>\n",
       "      <th>PastNumberOfClaims</th>\n",
       "      <th>AgeOfVehicle</th>\n",
       "      <th>AgeOfPolicyHolder</th>\n",
       "      <th>PoliceReportFiled</th>\n",
       "      <th>WitnessPresent</th>\n",
       "      <th>AgentType</th>\n",
       "      <th>NumberOfSuppliments</th>\n",
       "      <th>AddressChange_Claim</th>\n",
       "      <th>NumberOfCars</th>\n",
       "      <th>BasePolicy</th>\n",
       "    </tr>\n",
       "  </thead>\n",
       "  <tbody>\n",
       "    <tr>\n",
       "      <th>0</th>\n",
       "      <td>5</td>\n",
       "      <td>Urban</td>\n",
       "      <td>Tuesday</td>\n",
       "      <td>Jan</td>\n",
       "      <td>1</td>\n",
       "      <td>Female</td>\n",
       "      <td>Single</td>\n",
       "      <td>21</td>\n",
       "      <td>Policy Holder</td>\n",
       "      <td>Sport - Liability</td>\n",
       "      <td>...</td>\n",
       "      <td>none</td>\n",
       "      <td>3 years</td>\n",
       "      <td>26 to 30</td>\n",
       "      <td>No</td>\n",
       "      <td>No</td>\n",
       "      <td>External</td>\n",
       "      <td>none</td>\n",
       "      <td>1 year</td>\n",
       "      <td>3 to 4</td>\n",
       "      <td>Liability</td>\n",
       "    </tr>\n",
       "    <tr>\n",
       "      <th>1</th>\n",
       "      <td>3</td>\n",
       "      <td>Urban</td>\n",
       "      <td>Monday</td>\n",
       "      <td>Jan</td>\n",
       "      <td>4</td>\n",
       "      <td>Male</td>\n",
       "      <td>Single</td>\n",
       "      <td>34</td>\n",
       "      <td>Policy Holder</td>\n",
       "      <td>Sport - Collision</td>\n",
       "      <td>...</td>\n",
       "      <td>none</td>\n",
       "      <td>6 years</td>\n",
       "      <td>31 to 35</td>\n",
       "      <td>Yes</td>\n",
       "      <td>No</td>\n",
       "      <td>External</td>\n",
       "      <td>none</td>\n",
       "      <td>no change</td>\n",
       "      <td>1 vehicle</td>\n",
       "      <td>Collision</td>\n",
       "    </tr>\n",
       "  </tbody>\n",
       "</table>\n",
       "<p>2 rows × 29 columns</p>\n",
       "</div>"
      ],
      "text/plain": [
       "   WeekOfMonth AccidentArea DayOfWeekClaimed MonthClaimed  WeekOfMonthClaimed  \\\n",
       "0            5        Urban          Tuesday          Jan                   1   \n",
       "1            3        Urban           Monday          Jan                   4   \n",
       "\n",
       "      Sex MaritalStatus  Age          Fault         PolicyType  ...  \\\n",
       "0  Female        Single   21  Policy Holder  Sport - Liability  ...   \n",
       "1    Male        Single   34  Policy Holder  Sport - Collision  ...   \n",
       "\n",
       "  PastNumberOfClaims AgeOfVehicle  AgeOfPolicyHolder  PoliceReportFiled  \\\n",
       "0               none      3 years           26 to 30                 No   \n",
       "1               none      6 years           31 to 35                Yes   \n",
       "\n",
       "   WitnessPresent  AgentType  NumberOfSuppliments AddressChange_Claim  \\\n",
       "0              No   External                 none              1 year   \n",
       "1              No   External                 none           no change   \n",
       "\n",
       "  NumberOfCars BasePolicy  \n",
       "0       3 to 4  Liability  \n",
       "1    1 vehicle  Collision  \n",
       "\n",
       "[2 rows x 29 columns]"
      ]
     },
     "execution_count": 21,
     "metadata": {},
     "output_type": "execute_result"
    }
   ],
   "source": [
    "dx.head(2)"
   ]
  },
  {
   "cell_type": "code",
   "execution_count": 22,
   "metadata": {},
   "outputs": [],
   "source": [
    "def change(name):\n",
    "    if name == 'more than 69000':\n",
    "        return 'Vehicle_price_A'\n",
    "    elif name == '20000 to 29000':\n",
    "        return 'Vehicle_price_B'\n",
    "    elif name == '30000 to 39000':\n",
    "        return 'Vehicle_price_C'\n",
    "    elif name == 'less than 20000':\n",
    "        return 'Vehicle_price_D'\n",
    "    elif name == '40000 to 59000':\n",
    "        return 'Vehicle_price_E'\n",
    "    elif name == '60000 to 69000':\n",
    "        return 'Vehicle_price_F'\n",
    "    else:\n",
    "        return None\n",
    "    \n",
    "dx['VehiclePrice'] = dx.VehiclePrice.apply(change)"
   ]
  },
  {
   "cell_type": "code",
   "execution_count": 23,
   "metadata": {},
   "outputs": [],
   "source": [
    "def change(name):\n",
    "    if name == 'more than 30':\n",
    "        return 'Days_policy_Accident_A'\n",
    "    elif name == '15 to 30':\n",
    "        return 'Days_policy_Accident_B'\n",
    "    elif name == 'none':\n",
    "        return 'Days_policy_Accident_C'\n",
    "    elif name == '1 to 7':\n",
    "        return 'Days_policy_Accident_D'\n",
    "    elif name == '8 to 15':\n",
    "        return 'Days_policy_Accident_E'\n",
    "    else:\n",
    "        return None\n",
    "    \n",
    "dx['Days_Policy_Accident'] = dx.Days_Policy_Accident.apply(change)"
   ]
  },
  {
   "cell_type": "code",
   "execution_count": 24,
   "metadata": {},
   "outputs": [],
   "source": [
    "def change(name):\n",
    "    if name == 'more than 30':\n",
    "        return 'Days_policy_claim_A'\n",
    "    elif name == '15 to 30':\n",
    "        return 'Days_policy_claim_B'\n",
    "    elif name == '8 to 15':\n",
    "        return 'Days_policy_claim_C'\n",
    "    elif name == 'none':\n",
    "        return 'Days_policy_claim_D'\n",
    "    else:\n",
    "        return None\n",
    "    \n",
    "dx['Days_Policy_Claim'] = dx.Days_Policy_Claim.apply(change)"
   ]
  },
  {
   "cell_type": "code",
   "execution_count": 25,
   "metadata": {},
   "outputs": [],
   "source": [
    "def change(name):\n",
    "    if name == 'none':\n",
    "        return 'Past Number of Claims A'\n",
    "    elif name == '1':\n",
    "        return 'Past Number of Claims B'\n",
    "    elif name == '2 to 4':\n",
    "        return 'Past Number of Claims C'\n",
    "    elif name == 'more than 4':\n",
    "        return 'Past Number of Claims D'\n",
    "    else:\n",
    "        return None\n",
    "    \n",
    "dx['PastNumberOfClaims'] = dx.PastNumberOfClaims.apply(change)"
   ]
  },
  {
   "cell_type": "code",
   "execution_count": 26,
   "metadata": {},
   "outputs": [],
   "source": [
    "def change(name):\n",
    "    if name == '3 years':\n",
    "        return 'Age of Vehicle A'\n",
    "    elif name == '6 years':\n",
    "        return 'Age of Vehicle B'\n",
    "    elif name == '7 years':\n",
    "        return 'Age of Vehicle C'\n",
    "    elif name == 'more than 7':\n",
    "        return 'Age of Vehicle D'\n",
    "    elif name == '5 years':\n",
    "        return 'Age of Vehicle E'\n",
    "    elif name == 'new':\n",
    "        return 'Age of Vehicle F'\n",
    "    elif name == '4 years':\n",
    "        return 'Age of Vehicle G'\n",
    "    elif name == '2 years':\n",
    "        return 'Age of Vehicle H'\n",
    "    else:\n",
    "        return None\n",
    "    \n",
    "dx['AgeOfVehicle'] = dx.AgeOfVehicle.apply(change)"
   ]
  },
  {
   "cell_type": "code",
   "execution_count": 27,
   "metadata": {},
   "outputs": [],
   "source": [
    "def change(name):\n",
    "    if name == '26 to 30':\n",
    "        return 'Age of Policy Holder A'\n",
    "    elif name == '31 to 35':\n",
    "        return 'Age of Policy Holder B'\n",
    "    elif name == '41 to 50':\n",
    "        return 'Age of Policy Holder C'\n",
    "    elif name == '51 to 65':\n",
    "        return 'Age of Policy Holder D'\n",
    "    elif name == '21 to 25':\n",
    "        return 'Age of Policy Holder E'\n",
    "    elif name == '36 to 40':\n",
    "        return 'Age of Policy Holder F'\n",
    "    elif name == '16 to 17':\n",
    "        return 'Age of Policy Holder G'\n",
    "    elif name == 'over 65':\n",
    "        return 'Age of Policy Holder H'\n",
    "    elif name == '18 to 20':\n",
    "        return 'Age of Policy Holder I'\n",
    "    else:\n",
    "        return None\n",
    "    \n",
    "dx['AgeOfPolicyHolder'] = dx.AgeOfPolicyHolder.apply(change)"
   ]
  },
  {
   "cell_type": "code",
   "execution_count": 28,
   "metadata": {},
   "outputs": [],
   "source": [
    "def change(name):\n",
    "    if name == 'none':\n",
    "        return 'Number of Suppliments A'\n",
    "    elif name == 'more than 5':\n",
    "        return 'Number of Suppliments B'\n",
    "    elif name == '3 to 5':\n",
    "        return 'Number of Suppliments C'\n",
    "    elif name == '1 to 2':\n",
    "        return 'Number of Suppliments D'\n",
    "    else:\n",
    "        return None\n",
    "    \n",
    "dx['NumberOfSuppliments'] = dx.NumberOfSuppliments.apply(change)"
   ]
  },
  {
   "cell_type": "code",
   "execution_count": 29,
   "metadata": {},
   "outputs": [],
   "source": [
    "def change(name):\n",
    "    if name == '1 year':\n",
    "        return 'Address Change Claim A'\n",
    "    elif name == 'no change':\n",
    "        return 'Address Change Claim B'\n",
    "    elif name == '4 to 8 years':\n",
    "        return 'Address Change Claim C'\n",
    "    elif name == '2 to 3 years':\n",
    "        return 'Address Change Claim D'\n",
    "    elif name == 'under 6 months':\n",
    "        return 'Address Change Claim E'\n",
    "    else:\n",
    "        return None\n",
    "    \n",
    "dx['AddressChange_Claim'] = dx.AddressChange_Claim.apply(change)"
   ]
  },
  {
   "cell_type": "code",
   "execution_count": 30,
   "metadata": {},
   "outputs": [],
   "source": [
    "def change(name):\n",
    "    if name == '3 to 4':\n",
    "        return 'Number of Cars A'\n",
    "    elif name == '1 vehicle':\n",
    "        return 'Number of Cars B'\n",
    "    elif name == '2 vehicles':\n",
    "        return 'Number of Cars C'\n",
    "    elif name == '5 to 8':\n",
    "        return 'Number of Cars D'\n",
    "    elif name == 'more than 8':\n",
    "        return 'Number of Cars E'\n",
    "    else:\n",
    "        return None\n",
    "    \n",
    "dx['NumberOfCars'] = dx.NumberOfCars.apply(change)"
   ]
  },
  {
   "cell_type": "code",
   "execution_count": 31,
   "metadata": {},
   "outputs": [],
   "source": [
    "dummies = pd.get_dummies(dx[['AccidentArea', 'DayOfWeekClaimed', 'MonthClaimed', 'Sex', 'MaritalStatus', 'PolicyType', 'VehicleCategory','VehiclePrice', 'Days_Policy_Accident', 'Days_Policy_Claim', 'PastNumberOfClaims', 'AgeOfVehicle', 'AgeOfPolicyHolder', 'PoliceReportFiled', 'WitnessPresent', 'AgentType', 'NumberOfSuppliments', 'AddressChange_Claim', 'NumberOfCars', 'BasePolicy']], drop_first= True)"
   ]
  },
  {
   "cell_type": "code",
   "execution_count": 32,
   "metadata": {},
   "outputs": [],
   "source": [
    "dx = pd.concat([dx, dummies], axis = 1)"
   ]
  },
  {
   "cell_type": "code",
   "execution_count": 33,
   "metadata": {},
   "outputs": [
    {
     "data": {
      "text/html": [
       "<div>\n",
       "<style scoped>\n",
       "    .dataframe tbody tr th:only-of-type {\n",
       "        vertical-align: middle;\n",
       "    }\n",
       "\n",
       "    .dataframe tbody tr th {\n",
       "        vertical-align: top;\n",
       "    }\n",
       "\n",
       "    .dataframe thead th {\n",
       "        text-align: right;\n",
       "    }\n",
       "</style>\n",
       "<table border=\"1\" class=\"dataframe\">\n",
       "  <thead>\n",
       "    <tr style=\"text-align: right;\">\n",
       "      <th></th>\n",
       "      <th>WeekOfMonth</th>\n",
       "      <th>AccidentArea</th>\n",
       "      <th>DayOfWeekClaimed</th>\n",
       "      <th>MonthClaimed</th>\n",
       "      <th>WeekOfMonthClaimed</th>\n",
       "      <th>Sex</th>\n",
       "      <th>MaritalStatus</th>\n",
       "      <th>Age</th>\n",
       "      <th>Fault</th>\n",
       "      <th>PolicyType</th>\n",
       "      <th>...</th>\n",
       "      <th>AddressChange_Claim_Address Change Claim B</th>\n",
       "      <th>AddressChange_Claim_Address Change Claim C</th>\n",
       "      <th>AddressChange_Claim_Address Change Claim D</th>\n",
       "      <th>AddressChange_Claim_Address Change Claim E</th>\n",
       "      <th>NumberOfCars_Number of Cars B</th>\n",
       "      <th>NumberOfCars_Number of Cars C</th>\n",
       "      <th>NumberOfCars_Number of Cars D</th>\n",
       "      <th>NumberOfCars_Number of Cars E</th>\n",
       "      <th>BasePolicy_Collision</th>\n",
       "      <th>BasePolicy_Liability</th>\n",
       "    </tr>\n",
       "  </thead>\n",
       "  <tbody>\n",
       "    <tr>\n",
       "      <th>0</th>\n",
       "      <td>5</td>\n",
       "      <td>Urban</td>\n",
       "      <td>Tuesday</td>\n",
       "      <td>Jan</td>\n",
       "      <td>1</td>\n",
       "      <td>Female</td>\n",
       "      <td>Single</td>\n",
       "      <td>21</td>\n",
       "      <td>Policy Holder</td>\n",
       "      <td>Sport - Liability</td>\n",
       "      <td>...</td>\n",
       "      <td>0</td>\n",
       "      <td>0</td>\n",
       "      <td>0</td>\n",
       "      <td>0</td>\n",
       "      <td>0</td>\n",
       "      <td>0</td>\n",
       "      <td>0</td>\n",
       "      <td>0</td>\n",
       "      <td>0</td>\n",
       "      <td>1</td>\n",
       "    </tr>\n",
       "    <tr>\n",
       "      <th>1</th>\n",
       "      <td>3</td>\n",
       "      <td>Urban</td>\n",
       "      <td>Monday</td>\n",
       "      <td>Jan</td>\n",
       "      <td>4</td>\n",
       "      <td>Male</td>\n",
       "      <td>Single</td>\n",
       "      <td>34</td>\n",
       "      <td>Policy Holder</td>\n",
       "      <td>Sport - Collision</td>\n",
       "      <td>...</td>\n",
       "      <td>1</td>\n",
       "      <td>0</td>\n",
       "      <td>0</td>\n",
       "      <td>0</td>\n",
       "      <td>1</td>\n",
       "      <td>0</td>\n",
       "      <td>0</td>\n",
       "      <td>0</td>\n",
       "      <td>1</td>\n",
       "      <td>0</td>\n",
       "    </tr>\n",
       "  </tbody>\n",
       "</table>\n",
       "<p>2 rows × 109 columns</p>\n",
       "</div>"
      ],
      "text/plain": [
       "   WeekOfMonth AccidentArea DayOfWeekClaimed MonthClaimed  WeekOfMonthClaimed  \\\n",
       "0            5        Urban          Tuesday          Jan                   1   \n",
       "1            3        Urban           Monday          Jan                   4   \n",
       "\n",
       "      Sex MaritalStatus  Age          Fault         PolicyType  ...  \\\n",
       "0  Female        Single   21  Policy Holder  Sport - Liability  ...   \n",
       "1    Male        Single   34  Policy Holder  Sport - Collision  ...   \n",
       "\n",
       "  AddressChange_Claim_Address Change Claim B  \\\n",
       "0                                          0   \n",
       "1                                          1   \n",
       "\n",
       "  AddressChange_Claim_Address Change Claim C  \\\n",
       "0                                          0   \n",
       "1                                          0   \n",
       "\n",
       "   AddressChange_Claim_Address Change Claim D  \\\n",
       "0                                           0   \n",
       "1                                           0   \n",
       "\n",
       "   AddressChange_Claim_Address Change Claim E  NumberOfCars_Number of Cars B  \\\n",
       "0                                           0                              0   \n",
       "1                                           0                              1   \n",
       "\n",
       "   NumberOfCars_Number of Cars C  NumberOfCars_Number of Cars D  \\\n",
       "0                              0                              0   \n",
       "1                              0                              0   \n",
       "\n",
       "  NumberOfCars_Number of Cars E BasePolicy_Collision BasePolicy_Liability  \n",
       "0                             0                    0                    1  \n",
       "1                             0                    1                    0  \n",
       "\n",
       "[2 rows x 109 columns]"
      ]
     },
     "execution_count": 33,
     "metadata": {},
     "output_type": "execute_result"
    }
   ],
   "source": [
    "dx.head(2)"
   ]
  },
  {
   "cell_type": "code",
   "execution_count": 34,
   "metadata": {},
   "outputs": [],
   "source": [
    "dx = dx.drop(['AccidentArea', 'DayOfWeekClaimed', 'MonthClaimed', 'Sex', 'MaritalStatus', 'PolicyType', 'VehicleCategory','VehiclePrice', 'Days_Policy_Accident', 'Days_Policy_Claim', 'PastNumberOfClaims', 'AgeOfVehicle', 'AgeOfPolicyHolder', 'PoliceReportFiled', 'WitnessPresent', 'AgentType', 'NumberOfSuppliments', 'AddressChange_Claim', 'NumberOfCars', 'BasePolicy'], axis = 1)"
   ]
  },
  {
   "cell_type": "code",
   "execution_count": 35,
   "metadata": {},
   "outputs": [
    {
     "data": {
      "text/html": [
       "<div>\n",
       "<style scoped>\n",
       "    .dataframe tbody tr th:only-of-type {\n",
       "        vertical-align: middle;\n",
       "    }\n",
       "\n",
       "    .dataframe tbody tr th {\n",
       "        vertical-align: top;\n",
       "    }\n",
       "\n",
       "    .dataframe thead th {\n",
       "        text-align: right;\n",
       "    }\n",
       "</style>\n",
       "<table border=\"1\" class=\"dataframe\">\n",
       "  <thead>\n",
       "    <tr style=\"text-align: right;\">\n",
       "      <th></th>\n",
       "      <th>WeekOfMonth</th>\n",
       "      <th>WeekOfMonthClaimed</th>\n",
       "      <th>Age</th>\n",
       "      <th>Fault</th>\n",
       "      <th>FraudFound_P</th>\n",
       "      <th>PolicyNumber</th>\n",
       "      <th>RepNumber</th>\n",
       "      <th>Deductible</th>\n",
       "      <th>DriverRating</th>\n",
       "      <th>AccidentArea_Urban</th>\n",
       "      <th>...</th>\n",
       "      <th>AddressChange_Claim_Address Change Claim B</th>\n",
       "      <th>AddressChange_Claim_Address Change Claim C</th>\n",
       "      <th>AddressChange_Claim_Address Change Claim D</th>\n",
       "      <th>AddressChange_Claim_Address Change Claim E</th>\n",
       "      <th>NumberOfCars_Number of Cars B</th>\n",
       "      <th>NumberOfCars_Number of Cars C</th>\n",
       "      <th>NumberOfCars_Number of Cars D</th>\n",
       "      <th>NumberOfCars_Number of Cars E</th>\n",
       "      <th>BasePolicy_Collision</th>\n",
       "      <th>BasePolicy_Liability</th>\n",
       "    </tr>\n",
       "  </thead>\n",
       "  <tbody>\n",
       "    <tr>\n",
       "      <th>0</th>\n",
       "      <td>5</td>\n",
       "      <td>1</td>\n",
       "      <td>21</td>\n",
       "      <td>Policy Holder</td>\n",
       "      <td>0</td>\n",
       "      <td>1</td>\n",
       "      <td>12</td>\n",
       "      <td>300</td>\n",
       "      <td>1</td>\n",
       "      <td>1</td>\n",
       "      <td>...</td>\n",
       "      <td>0</td>\n",
       "      <td>0</td>\n",
       "      <td>0</td>\n",
       "      <td>0</td>\n",
       "      <td>0</td>\n",
       "      <td>0</td>\n",
       "      <td>0</td>\n",
       "      <td>0</td>\n",
       "      <td>0</td>\n",
       "      <td>1</td>\n",
       "    </tr>\n",
       "    <tr>\n",
       "      <th>1</th>\n",
       "      <td>3</td>\n",
       "      <td>4</td>\n",
       "      <td>34</td>\n",
       "      <td>Policy Holder</td>\n",
       "      <td>0</td>\n",
       "      <td>2</td>\n",
       "      <td>15</td>\n",
       "      <td>400</td>\n",
       "      <td>4</td>\n",
       "      <td>1</td>\n",
       "      <td>...</td>\n",
       "      <td>1</td>\n",
       "      <td>0</td>\n",
       "      <td>0</td>\n",
       "      <td>0</td>\n",
       "      <td>1</td>\n",
       "      <td>0</td>\n",
       "      <td>0</td>\n",
       "      <td>0</td>\n",
       "      <td>1</td>\n",
       "      <td>0</td>\n",
       "    </tr>\n",
       "  </tbody>\n",
       "</table>\n",
       "<p>2 rows × 89 columns</p>\n",
       "</div>"
      ],
      "text/plain": [
       "   WeekOfMonth  WeekOfMonthClaimed  Age          Fault  FraudFound_P  \\\n",
       "0            5                   1   21  Policy Holder             0   \n",
       "1            3                   4   34  Policy Holder             0   \n",
       "\n",
       "   PolicyNumber  RepNumber  Deductible  DriverRating  AccidentArea_Urban  ...  \\\n",
       "0             1         12         300             1                   1  ...   \n",
       "1             2         15         400             4                   1  ...   \n",
       "\n",
       "   AddressChange_Claim_Address Change Claim B  \\\n",
       "0                                           0   \n",
       "1                                           1   \n",
       "\n",
       "   AddressChange_Claim_Address Change Claim C  \\\n",
       "0                                           0   \n",
       "1                                           0   \n",
       "\n",
       "   AddressChange_Claim_Address Change Claim D  \\\n",
       "0                                           0   \n",
       "1                                           0   \n",
       "\n",
       "   AddressChange_Claim_Address Change Claim E  NumberOfCars_Number of Cars B  \\\n",
       "0                                           0                              0   \n",
       "1                                           0                              1   \n",
       "\n",
       "   NumberOfCars_Number of Cars C  NumberOfCars_Number of Cars D  \\\n",
       "0                              0                              0   \n",
       "1                              0                              0   \n",
       "\n",
       "   NumberOfCars_Number of Cars E  BasePolicy_Collision  BasePolicy_Liability  \n",
       "0                              0                     0                     1  \n",
       "1                              0                     1                     0  \n",
       "\n",
       "[2 rows x 89 columns]"
      ]
     },
     "execution_count": 35,
     "metadata": {},
     "output_type": "execute_result"
    }
   ],
   "source": [
    "dx.head(2)"
   ]
  },
  {
   "cell_type": "code",
   "execution_count": 36,
   "metadata": {},
   "outputs": [
    {
     "name": "stdout",
     "output_type": "stream",
     "text": [
      "<class 'pandas.core.frame.DataFrame'>\n",
      "RangeIndex: 15420 entries, 0 to 15419\n",
      "Data columns (total 89 columns):\n",
      " #   Column                                       Non-Null Count  Dtype \n",
      "---  ------                                       --------------  ----- \n",
      " 0   WeekOfMonth                                  15420 non-null  int64 \n",
      " 1   WeekOfMonthClaimed                           15420 non-null  int64 \n",
      " 2   Age                                          15420 non-null  int64 \n",
      " 3   Fault                                        15420 non-null  object\n",
      " 4   FraudFound_P                                 15420 non-null  int64 \n",
      " 5   PolicyNumber                                 15420 non-null  int64 \n",
      " 6   RepNumber                                    15420 non-null  int64 \n",
      " 7   Deductible                                   15420 non-null  int64 \n",
      " 8   DriverRating                                 15420 non-null  int64 \n",
      " 9   AccidentArea_Urban                           15420 non-null  uint8 \n",
      " 10  DayOfWeekClaimed_Friday                      15420 non-null  uint8 \n",
      " 11  DayOfWeekClaimed_Monday                      15420 non-null  uint8 \n",
      " 12  DayOfWeekClaimed_Saturday                    15420 non-null  uint8 \n",
      " 13  DayOfWeekClaimed_Sunday                      15420 non-null  uint8 \n",
      " 14  DayOfWeekClaimed_Thursday                    15420 non-null  uint8 \n",
      " 15  DayOfWeekClaimed_Tuesday                     15420 non-null  uint8 \n",
      " 16  DayOfWeekClaimed_Wednesday                   15420 non-null  uint8 \n",
      " 17  MonthClaimed_Apr                             15420 non-null  uint8 \n",
      " 18  MonthClaimed_Aug                             15420 non-null  uint8 \n",
      " 19  MonthClaimed_Dec                             15420 non-null  uint8 \n",
      " 20  MonthClaimed_Feb                             15420 non-null  uint8 \n",
      " 21  MonthClaimed_Jan                             15420 non-null  uint8 \n",
      " 22  MonthClaimed_Jul                             15420 non-null  uint8 \n",
      " 23  MonthClaimed_Jun                             15420 non-null  uint8 \n",
      " 24  MonthClaimed_Mar                             15420 non-null  uint8 \n",
      " 25  MonthClaimed_May                             15420 non-null  uint8 \n",
      " 26  MonthClaimed_Nov                             15420 non-null  uint8 \n",
      " 27  MonthClaimed_Oct                             15420 non-null  uint8 \n",
      " 28  MonthClaimed_Sep                             15420 non-null  uint8 \n",
      " 29  Sex_Male                                     15420 non-null  uint8 \n",
      " 30  MaritalStatus_Married                        15420 non-null  uint8 \n",
      " 31  MaritalStatus_Single                         15420 non-null  uint8 \n",
      " 32  MaritalStatus_Widow                          15420 non-null  uint8 \n",
      " 33  PolicyType_Sedan - Collision                 15420 non-null  uint8 \n",
      " 34  PolicyType_Sedan - Liability                 15420 non-null  uint8 \n",
      " 35  PolicyType_Sport - All Perils                15420 non-null  uint8 \n",
      " 36  PolicyType_Sport - Collision                 15420 non-null  uint8 \n",
      " 37  PolicyType_Sport - Liability                 15420 non-null  uint8 \n",
      " 38  PolicyType_Utility - All Perils              15420 non-null  uint8 \n",
      " 39  PolicyType_Utility - Collision               15420 non-null  uint8 \n",
      " 40  PolicyType_Utility - Liability               15420 non-null  uint8 \n",
      " 41  VehicleCategory_Sport                        15420 non-null  uint8 \n",
      " 42  VehicleCategory_Utility                      15420 non-null  uint8 \n",
      " 43  VehiclePrice_Vehicle_price_B                 15420 non-null  uint8 \n",
      " 44  VehiclePrice_Vehicle_price_C                 15420 non-null  uint8 \n",
      " 45  VehiclePrice_Vehicle_price_D                 15420 non-null  uint8 \n",
      " 46  VehiclePrice_Vehicle_price_E                 15420 non-null  uint8 \n",
      " 47  VehiclePrice_Vehicle_price_F                 15420 non-null  uint8 \n",
      " 48  Days_Policy_Accident_Days_policy_Accident_B  15420 non-null  uint8 \n",
      " 49  Days_Policy_Accident_Days_policy_Accident_C  15420 non-null  uint8 \n",
      " 50  Days_Policy_Accident_Days_policy_Accident_D  15420 non-null  uint8 \n",
      " 51  Days_Policy_Accident_Days_policy_Accident_E  15420 non-null  uint8 \n",
      " 52  Days_Policy_Claim_Days_policy_claim_B        15420 non-null  uint8 \n",
      " 53  Days_Policy_Claim_Days_policy_claim_C        15420 non-null  uint8 \n",
      " 54  Days_Policy_Claim_Days_policy_claim_D        15420 non-null  uint8 \n",
      " 55  PastNumberOfClaims_Past Number of Claims B   15420 non-null  uint8 \n",
      " 56  PastNumberOfClaims_Past Number of Claims C   15420 non-null  uint8 \n",
      " 57  PastNumberOfClaims_Past Number of Claims D   15420 non-null  uint8 \n",
      " 58  AgeOfVehicle_Age of Vehicle B                15420 non-null  uint8 \n",
      " 59  AgeOfVehicle_Age of Vehicle C                15420 non-null  uint8 \n",
      " 60  AgeOfVehicle_Age of Vehicle D                15420 non-null  uint8 \n",
      " 61  AgeOfVehicle_Age of Vehicle E                15420 non-null  uint8 \n",
      " 62  AgeOfVehicle_Age of Vehicle F                15420 non-null  uint8 \n",
      " 63  AgeOfVehicle_Age of Vehicle G                15420 non-null  uint8 \n",
      " 64  AgeOfVehicle_Age of Vehicle H                15420 non-null  uint8 \n",
      " 65  AgeOfPolicyHolder_Age of Policy Holder B     15420 non-null  uint8 \n",
      " 66  AgeOfPolicyHolder_Age of Policy Holder C     15420 non-null  uint8 \n",
      " 67  AgeOfPolicyHolder_Age of Policy Holder D     15420 non-null  uint8 \n",
      " 68  AgeOfPolicyHolder_Age of Policy Holder E     15420 non-null  uint8 \n",
      " 69  AgeOfPolicyHolder_Age of Policy Holder F     15420 non-null  uint8 \n",
      " 70  AgeOfPolicyHolder_Age of Policy Holder G     15420 non-null  uint8 \n",
      " 71  AgeOfPolicyHolder_Age of Policy Holder H     15420 non-null  uint8 \n",
      " 72  AgeOfPolicyHolder_Age of Policy Holder I     15420 non-null  uint8 \n",
      " 73  PoliceReportFiled_Yes                        15420 non-null  uint8 \n",
      " 74  WitnessPresent_Yes                           15420 non-null  uint8 \n",
      " 75  AgentType_Internal                           15420 non-null  uint8 \n",
      " 76  NumberOfSuppliments_Number of Suppliments B  15420 non-null  uint8 \n",
      " 77  NumberOfSuppliments_Number of Suppliments C  15420 non-null  uint8 \n",
      " 78  NumberOfSuppliments_Number of Suppliments D  15420 non-null  uint8 \n",
      " 79  AddressChange_Claim_Address Change Claim B   15420 non-null  uint8 \n",
      " 80  AddressChange_Claim_Address Change Claim C   15420 non-null  uint8 \n",
      " 81  AddressChange_Claim_Address Change Claim D   15420 non-null  uint8 \n",
      " 82  AddressChange_Claim_Address Change Claim E   15420 non-null  uint8 \n",
      " 83  NumberOfCars_Number of Cars B                15420 non-null  uint8 \n",
      " 84  NumberOfCars_Number of Cars C                15420 non-null  uint8 \n",
      " 85  NumberOfCars_Number of Cars D                15420 non-null  uint8 \n",
      " 86  NumberOfCars_Number of Cars E                15420 non-null  uint8 \n",
      " 87  BasePolicy_Collision                         15420 non-null  uint8 \n",
      " 88  BasePolicy_Liability                         15420 non-null  uint8 \n",
      "dtypes: int64(8), object(1), uint8(80)\n",
      "memory usage: 2.2+ MB\n"
     ]
    }
   ],
   "source": [
    "dx.info()"
   ]
  },
  {
   "cell_type": "code",
   "execution_count": 37,
   "metadata": {},
   "outputs": [],
   "source": [
    "X = dx.drop('Fault', axis = 1)\n",
    "y = dx.Fault"
   ]
  },
  {
   "cell_type": "code",
   "execution_count": 38,
   "metadata": {},
   "outputs": [],
   "source": [
    "from sklearn.preprocessing import StandardScaler"
   ]
  },
  {
   "cell_type": "code",
   "execution_count": 39,
   "metadata": {},
   "outputs": [],
   "source": [
    "scale = StandardScaler()"
   ]
  },
  {
   "cell_type": "code",
   "execution_count": 40,
   "metadata": {},
   "outputs": [],
   "source": [
    "ds = scale.fit_transform(X)"
   ]
  },
  {
   "cell_type": "code",
   "execution_count": 41,
   "metadata": {},
   "outputs": [],
   "source": [
    "from sklearn.decomposition import PCA"
   ]
  },
  {
   "cell_type": "code",
   "execution_count": 42,
   "metadata": {},
   "outputs": [],
   "source": [
    "pca = PCA(n_components= 12)"
   ]
  },
  {
   "cell_type": "code",
   "execution_count": 43,
   "metadata": {},
   "outputs": [],
   "source": [
    "x_pca = pca.fit_transform(ds)"
   ]
  },
  {
   "cell_type": "code",
   "execution_count": 44,
   "metadata": {},
   "outputs": [],
   "source": [
    "X = x_pca\n",
    "y = dx.Fault"
   ]
  },
  {
   "cell_type": "code",
   "execution_count": 45,
   "metadata": {},
   "outputs": [],
   "source": [
    "from sklearn.model_selection import train_test_split"
   ]
  },
  {
   "cell_type": "code",
   "execution_count": 46,
   "metadata": {},
   "outputs": [],
   "source": [
    "X_train, X_test, y_train, y_test = train_test_split(X, y, test_size=0.3, random_state=42)"
   ]
  },
  {
   "cell_type": "code",
   "execution_count": 47,
   "metadata": {},
   "outputs": [],
   "source": [
    "from sklearn.linear_model import LogisticRegression"
   ]
  },
  {
   "cell_type": "code",
   "execution_count": 48,
   "metadata": {},
   "outputs": [],
   "source": [
    "from sklearn.tree import DecisionTreeClassifier"
   ]
  },
  {
   "cell_type": "code",
   "execution_count": 49,
   "metadata": {},
   "outputs": [],
   "source": [
    "from sklearn.ensemble import RandomForestClassifier"
   ]
  },
  {
   "cell_type": "code",
   "execution_count": 50,
   "metadata": {},
   "outputs": [],
   "source": [
    "from sklearn.svm import SVC"
   ]
  },
  {
   "cell_type": "code",
   "execution_count": 51,
   "metadata": {},
   "outputs": [],
   "source": [
    "from sklearn.neighbors import KNeighborsClassifier"
   ]
  },
  {
   "cell_type": "code",
   "execution_count": 52,
   "metadata": {},
   "outputs": [],
   "source": [
    "lr = LogisticRegression()"
   ]
  },
  {
   "cell_type": "code",
   "execution_count": 53,
   "metadata": {},
   "outputs": [],
   "source": [
    "dtc = DecisionTreeClassifier()"
   ]
  },
  {
   "cell_type": "code",
   "execution_count": 54,
   "metadata": {},
   "outputs": [],
   "source": [
    "rfc = RandomForestClassifier(n_estimators=300)"
   ]
  },
  {
   "cell_type": "code",
   "execution_count": 55,
   "metadata": {},
   "outputs": [],
   "source": [
    "svc = SVC()"
   ]
  },
  {
   "cell_type": "code",
   "execution_count": 56,
   "metadata": {},
   "outputs": [],
   "source": [
    "knn = KNeighborsClassifier(n_neighbors=1)"
   ]
  },
  {
   "cell_type": "code",
   "execution_count": 57,
   "metadata": {},
   "outputs": [
    {
     "data": {
      "text/plain": [
       "LogisticRegression()"
      ]
     },
     "execution_count": 57,
     "metadata": {},
     "output_type": "execute_result"
    }
   ],
   "source": [
    "lr.fit(X_train, y_train)"
   ]
  },
  {
   "cell_type": "code",
   "execution_count": 58,
   "metadata": {},
   "outputs": [
    {
     "data": {
      "text/plain": [
       "DecisionTreeClassifier()"
      ]
     },
     "execution_count": 58,
     "metadata": {},
     "output_type": "execute_result"
    }
   ],
   "source": [
    "dtc.fit(X_train, y_train)"
   ]
  },
  {
   "cell_type": "code",
   "execution_count": 59,
   "metadata": {},
   "outputs": [
    {
     "data": {
      "text/plain": [
       "RandomForestClassifier(n_estimators=300)"
      ]
     },
     "execution_count": 59,
     "metadata": {},
     "output_type": "execute_result"
    }
   ],
   "source": [
    "rfc.fit(X_train, y_train)"
   ]
  },
  {
   "cell_type": "code",
   "execution_count": 60,
   "metadata": {},
   "outputs": [
    {
     "data": {
      "text/plain": [
       "SVC()"
      ]
     },
     "execution_count": 60,
     "metadata": {},
     "output_type": "execute_result"
    }
   ],
   "source": [
    "svc.fit(X_train, y_train)"
   ]
  },
  {
   "cell_type": "code",
   "execution_count": 61,
   "metadata": {},
   "outputs": [
    {
     "data": {
      "text/plain": [
       "KNeighborsClassifier(n_neighbors=1)"
      ]
     },
     "execution_count": 61,
     "metadata": {},
     "output_type": "execute_result"
    }
   ],
   "source": [
    "knn.fit(X_train, y_train)"
   ]
  },
  {
   "cell_type": "code",
   "execution_count": 62,
   "metadata": {},
   "outputs": [],
   "source": [
    "pred = lr.predict(X_test)"
   ]
  },
  {
   "cell_type": "code",
   "execution_count": 63,
   "metadata": {},
   "outputs": [],
   "source": [
    "prediction = dtc.predict(X_test)"
   ]
  },
  {
   "cell_type": "code",
   "execution_count": 64,
   "metadata": {},
   "outputs": [],
   "source": [
    "preds = rfc.predict(X_test)"
   ]
  },
  {
   "cell_type": "code",
   "execution_count": 65,
   "metadata": {},
   "outputs": [],
   "source": [
    "predictions = svc.predict(X_test)"
   ]
  },
  {
   "cell_type": "code",
   "execution_count": 66,
   "metadata": {},
   "outputs": [],
   "source": [
    "predicts = knn.predict(X_test)"
   ]
  },
  {
   "cell_type": "code",
   "execution_count": 67,
   "metadata": {},
   "outputs": [],
   "source": [
    "from sklearn.metrics import accuracy_score, classification_report, confusion_matrix"
   ]
  },
  {
   "cell_type": "code",
   "execution_count": 68,
   "metadata": {},
   "outputs": [
    {
     "name": "stdout",
     "output_type": "stream",
     "text": [
      "Logistic Regressor accuracy score:  0.717682663207955\n",
      "\n",
      "\n",
      "[[3315   10]\n",
      " [1296    5]]\n",
      "\n",
      "\n",
      "               precision    recall  f1-score   support\n",
      "\n",
      "Policy Holder       0.72      1.00      0.84      3325\n",
      "  Third Party       0.33      0.00      0.01      1301\n",
      "\n",
      "     accuracy                           0.72      4626\n",
      "    macro avg       0.53      0.50      0.42      4626\n",
      " weighted avg       0.61      0.72      0.60      4626\n",
      "\n"
     ]
    }
   ],
   "source": [
    "print('Logistic Regressor accuracy score: ', accuracy_score(y_test, pred))\n",
    "print('\\n')\n",
    "print(confusion_matrix(y_test, pred))\n",
    "print('\\n')\n",
    "print(classification_report(y_test, pred))"
   ]
  },
  {
   "cell_type": "code",
   "execution_count": 69,
   "metadata": {},
   "outputs": [
    {
     "name": "stdout",
     "output_type": "stream",
     "text": [
      "Decision Tree accuracy score:  0.6171638564634674\n",
      "\n",
      "\n",
      "[[2399  926]\n",
      " [ 845  456]]\n",
      "\n",
      "\n",
      "               precision    recall  f1-score   support\n",
      "\n",
      "Policy Holder       0.74      0.72      0.73      3325\n",
      "  Third Party       0.33      0.35      0.34      1301\n",
      "\n",
      "     accuracy                           0.62      4626\n",
      "    macro avg       0.53      0.54      0.54      4626\n",
      " weighted avg       0.62      0.62      0.62      4626\n",
      "\n"
     ]
    }
   ],
   "source": [
    "print('Decision Tree accuracy score: ', accuracy_score(y_test, prediction))\n",
    "print('\\n')\n",
    "print(confusion_matrix(y_test, prediction))\n",
    "print('\\n')\n",
    "print(classification_report(y_test, prediction))"
   ]
  },
  {
   "cell_type": "code",
   "execution_count": 70,
   "metadata": {},
   "outputs": [
    {
     "name": "stdout",
     "output_type": "stream",
     "text": [
      "Random Forest Classifier accuracy score:  0.7159533073929961\n",
      "\n",
      "\n",
      "[[3181  144]\n",
      " [1170  131]]\n",
      "\n",
      "\n",
      "               precision    recall  f1-score   support\n",
      "\n",
      "Policy Holder       0.73      0.96      0.83      3325\n",
      "  Third Party       0.48      0.10      0.17      1301\n",
      "\n",
      "     accuracy                           0.72      4626\n",
      "    macro avg       0.60      0.53      0.50      4626\n",
      " weighted avg       0.66      0.72      0.64      4626\n",
      "\n"
     ]
    }
   ],
   "source": [
    "print('Random Forest Classifier accuracy score: ', accuracy_score(y_test, preds))\n",
    "print('\\n')\n",
    "print(confusion_matrix(y_test, preds))\n",
    "print('\\n')\n",
    "print(classification_report(y_test, preds))"
   ]
  },
  {
   "cell_type": "code",
   "execution_count": 71,
   "metadata": {},
   "outputs": [
    {
     "data": {
      "text/plain": [
       "[Text(0, 0.5, 'True'), Text(0, 1.5, 'False')]"
      ]
     },
     "execution_count": 71,
     "metadata": {},
     "output_type": "execute_result"
    },
    {
     "data": {
      "image/png": "[encoded data removed]",
      "text/plain": [
       "<Figure size 432x288 with 2 Axes>"
      ]
     },
     "metadata": {},
     "output_type": "display_data"
    }
   ],
   "source": [
    "ax = sns.heatmap(confusion_matrix(y_test, preds)/ np.sum(confusion_matrix(y_test, preds)), annot = True, cmap = 'Blues', fmt = '.2%')\n",
    "ax.set_title('Random Forest Classifier Seaborn Confusion matrix')\n",
    "ax.set_xlabel('\\n Predicted values')\n",
    "ax.set_ylabel('Actual values')\n",
    "ax.xaxis.set_ticklabels(['False', 'True'])\n",
    "ax.yaxis.set_ticklabels(['True', 'False'])"
   ]
  },
  {
   "cell_type": "code",
   "execution_count": 72,
   "metadata": {},
   "outputs": [
    {
     "name": "stdout",
     "output_type": "stream",
     "text": [
      "SVC accuracy score:  0.7189796800691742\n",
      "\n",
      "\n",
      "[[3317    8]\n",
      " [1292    9]]\n",
      "\n",
      "\n",
      "               precision    recall  f1-score   support\n",
      "\n",
      "Policy Holder       0.72      1.00      0.84      3325\n",
      "  Third Party       0.53      0.01      0.01      1301\n",
      "\n",
      "     accuracy                           0.72      4626\n",
      "    macro avg       0.62      0.50      0.42      4626\n",
      " weighted avg       0.67      0.72      0.60      4626\n",
      "\n"
     ]
    }
   ],
   "source": [
    "print('SVC accuracy score: ', accuracy_score(y_test, predictions))\n",
    "print('\\n')\n",
    "print(confusion_matrix(y_test, predictions))\n",
    "print('\\n')\n",
    "print(classification_report(y_test, predictions))"
   ]
  },
  {
   "cell_type": "code",
   "execution_count": 73,
   "metadata": {},
   "outputs": [
    {
     "name": "stdout",
     "output_type": "stream",
     "text": [
      "KNeighbors accuracy score:  0.6214872460008647\n",
      "\n",
      "\n",
      "[[2457  868]\n",
      " [ 883  418]]\n",
      "\n",
      "\n",
      "               precision    recall  f1-score   support\n",
      "\n",
      "Policy Holder       0.74      0.74      0.74      3325\n",
      "  Third Party       0.33      0.32      0.32      1301\n",
      "\n",
      "     accuracy                           0.62      4626\n",
      "    macro avg       0.53      0.53      0.53      4626\n",
      " weighted avg       0.62      0.62      0.62      4626\n",
      "\n"
     ]
    }
   ],
   "source": [
    "print('KNeighbors accuracy score: ', accuracy_score(y_test, predicts))\n",
    "print('\\n')\n",
    "print(confusion_matrix(y_test, predicts))\n",
    "print('\\n')\n",
    "print(classification_report(y_test, predicts))"
   ]
  },
  {
   "cell_type": "code",
   "execution_count": 74,
   "metadata": {},
   "outputs": [
    {
     "data": {
      "text/plain": [
       "[Text(0, 0.5, 'True'), Text(0, 1.5, 'False')]"
      ]
     },
     "execution_count": 74,
     "metadata": {},
     "output_type": "execute_result"
    },
    {
     "data": {
      "image/png": "[encoded data removed]",
      "text/plain": [
       "<Figure size 432x288 with 2 Axes>"
      ]
     },
     "metadata": {},
     "output_type": "display_data"
    }
   ],
   "source": [
    "ax = sns.heatmap(confusion_matrix(y_test, predicts)/ np.sum(confusion_matrix(y_test, predicts)), annot = True, cmap = 'Blues', fmt = '.2%')\n",
    "ax.set_title('KNeighbors classification Seaborn Confusion matrix')\n",
    "ax.set_xlabel('\\n Predicted values')\n",
    "ax.set_ylabel('Actual values')\n",
    "ax.xaxis.set_ticklabels(['False', 'True'])\n",
    "ax.yaxis.set_ticklabels(['True', 'False'])"
   ]
  },
  {
   "cell_type": "markdown",
   "metadata": {},
   "source": [
    "### Explanatory Data Analysis"
   ]
  },
  {
   "cell_type": "markdown",
   "metadata": {},
   "source": [
    "Drawing my conlusion with the Decision tree model as a result of it's performance compared to the other models and using the recall result of the classification of report."
   ]
  },
  {
   "cell_type": "code",
   "execution_count": 77,
   "metadata": {},
   "outputs": [],
   "source": [
    "Policy_Holder = 0.72\n",
    "Third_Party = 0.35\n",
    "Total = Policy_Holder + Third_Party"
   ]
  },
  {
   "cell_type": "code",
   "execution_count": 78,
   "metadata": {},
   "outputs": [],
   "source": [
    "Policy_Holder_percentage_rate = np.round((Policy_Holder / Total) * 100, 1)\n",
    "Third_Party_percentage_rate = np.round((Third_Party / Total) * 100, 1)"
   ]
  },
  {
   "cell_type": "code",
   "execution_count": 79,
   "metadata": {},
   "outputs": [
    {
     "name": "stdout",
     "output_type": "stream",
     "text": [
      "Percentage rate of Policy Holder:  67.3\n",
      "\n",
      "\n",
      "Percentage rate of Third Party:  32.7\n"
     ]
    }
   ],
   "source": [
    "print('Percentage rate of Policy Holder: ', Policy_Holder_percentage_rate)\n",
    "print('\\n')\n",
    "print('Percentage rate of Third Party: ', Third_Party_percentage_rate)"
   ]
  },
  {
   "cell_type": "code",
   "execution_count": 80,
   "metadata": {},
   "outputs": [],
   "source": [
    "plot = pd.DataFrame({'Fault': ['Policy Holder', 'Third Party'],\n",
    "                    'Rate (%)': [67.3, 32.7]})"
   ]
  },
  {
   "cell_type": "code",
   "execution_count": 81,
   "metadata": {},
   "outputs": [
    {
     "data": {
      "text/html": [
       "<div>\n",
       "<style scoped>\n",
       "    .dataframe tbody tr th:only-of-type {\n",
       "        vertical-align: middle;\n",
       "    }\n",
       "\n",
       "    .dataframe tbody tr th {\n",
       "        vertical-align: top;\n",
       "    }\n",
       "\n",
       "    .dataframe thead th {\n",
       "        text-align: right;\n",
       "    }\n",
       "</style>\n",
       "<table border=\"1\" class=\"dataframe\">\n",
       "  <thead>\n",
       "    <tr style=\"text-align: right;\">\n",
       "      <th></th>\n",
       "      <th>Fault</th>\n",
       "      <th>Rate (%)</th>\n",
       "    </tr>\n",
       "  </thead>\n",
       "  <tbody>\n",
       "    <tr>\n",
       "      <th>0</th>\n",
       "      <td>Policy Holder</td>\n",
       "      <td>67.3</td>\n",
       "    </tr>\n",
       "    <tr>\n",
       "      <th>1</th>\n",
       "      <td>Third Party</td>\n",
       "      <td>32.7</td>\n",
       "    </tr>\n",
       "  </tbody>\n",
       "</table>\n",
       "</div>"
      ],
      "text/plain": [
       "           Fault  Rate (%)\n",
       "0  Policy Holder      67.3\n",
       "1    Third Party      32.7"
      ]
     },
     "execution_count": 81,
     "metadata": {},
     "output_type": "execute_result"
    }
   ],
   "source": [
    "plot"
   ]
  },
  {
   "cell_type": "code",
   "execution_count": 85,
   "metadata": {},
   "outputs": [
    {
     "data": {
      "image/png": "[encoded data removed]",
      "text/plain": [
       "<Figure size 576x288 with 1 Axes>"
      ]
     },
     "metadata": {},
     "output_type": "display_data"
    }
   ],
   "source": [
    "plt.figure(figsize = (8, 4))\n",
    "ax = sns.barplot(x = 'Fault', y = 'Rate (%)', data = plot)\n",
    "plt.title('Percentage rate of Vehicle insurance fraud', fontsize = 20)\n",
    "plt.xlabel('Fault', fontsize = 15)\n",
    "plt.ylabel('Rate (%)', fontsize = 15)\n",
    "\n",
    "for p in ax.patches:\n",
    "    percentage = '{:.2f}%'.format(p.get_height())\n",
    "    x = p.get_x() + p.get_width() / 2\n",
    "    y = p.get_height()\n",
    "    ax.annotate(percentage, (x, y), ha = 'center', size = 13)"
   ]
  },
  {
   "cell_type": "code",
   "execution_count": null,
   "metadata": {},
   "outputs": [],
   "source": []
  }
 ],
 "metadata": {
  "kernelspec": {
   "display_name": "Python 3",
   "language": "python",
   "name": "python3"
  },
  "language_info": {
   "codemirror_mode": {
    "name": "ipython",
    "version": 3
   },
   "file_extension": ".py",
   "mimetype": "text/x-python",
   "name": "python",
   "nbconvert_exporter": "python",
   "pygments_lexer": "ipython3",
   "version": "3.8.3"
  }
 },
 "nbformat": 4,
 "nbformat_minor": 4
}
